{
 "cells": [
  {
   "attachments": {},
   "cell_type": "markdown",
   "metadata": {},
   "source": [
    "# DAY 1 Python Practice"
   ]
  },
  {
   "attachments": {},
   "cell_type": "markdown",
   "metadata": {},
   "source": [
    "## Python Data type\n",
    "1. number type"
   ]
  },
  {
   "cell_type": "code",
   "execution_count": null,
   "metadata": {},
   "outputs": [],
   "source": [
    "#32bit  number range\n",
    "intNum: list[int] = [32, 12, 1000, 2 ** 31 - 1]\n",
    "complexNum : complex = 1 + 2j\n",
    "\n",
    "#retrun real part of complex number\n",
    "print(complexNum.real)\n",
    "\n",
    "#return imaginary part of complex number\n",
    "print(complexNum.imag)\n",
    "\n",
    "#return conjugate complex number\n",
    "print(complexNum.conjugate())\n",
    "\n",
    "#return absolute of complex number\n",
    "print(abs(complexNum))\n",
    "\n"
   ]
  },
  {
   "attachments": {},
   "cell_type": "markdown",
   "metadata": {},
   "source": [
    "2. string type"
   ]
  },
  {
   "cell_type": "code",
   "execution_count": null,
   "metadata": {},
   "outputs": [],
   "source": [
    "food: str = \"Python's favorite food is perl\"\n",
    "print(food)\n",
    "\n",
    "backslash: str = 'Python\\'s favorite food is perl'\n",
    "say: str = \"\\\"Python is very easy.\\\" he says \"\n",
    "print(say)\n",
    "\n",
    "multipleLine = \"\"\"\n",
    "   Life is too short\n",
    "   You need to learn Python\n",
    "  \"\"\"\n",
    "print(multipleLine)\n",
    "\n",
    "escapeCode: list[str] = [\"\\n\", \"\\t\", \"\\\\\", \"\\r\", \"\\f\", \"\\a\" ]\n",
    "print(escapeCode[4])"
   ]
  },
  {
   "cell_type": "code",
   "execution_count": null,
   "metadata": {},
   "outputs": [],
   "source": [
    "print('C:\\some\\name')\n",
    "print(r'C:\\some\\name')\n",
    "# 여기서 r 뒤에 오는 문자열들은 줄띄워쓰기 \\n과 같은 이스케이프 코드가 와도 문자열로써 출력하게 된다.\n",
    "\n",
    "print(\"\"\"\\\n",
    "  Usage: thingy [OPTIONS]\n",
    "    -h\n",
    "    -H hostname\n",
    "\"\"\")\n",
    "\n",
    "print('Put several strings within parentheses'\n",
    "      'to have them joined together')\n",
    "# 떨어져 있는 문자열은 자동으로 붙여서 출력하게 되는데 이 기능은 긴 문자를 출력할때 유용하다. \n",
    "\n",
    "prefix = \"Python\"\n",
    "print(prefix + \"good\")"
   ]
  },
  {
   "attachments": {},
   "cell_type": "markdown",
   "metadata": {},
   "source": [
    "- slice"
   ]
  },
  {
   "cell_type": "code",
   "execution_count": null,
   "metadata": {},
   "outputs": [],
   "source": [
    "stringIndex: str = \"Life is too short.\"\n",
    "print(stringIndex[-0]) #expect \"L\".\n",
    "print(stringIndex[-2]) #expect \"t\".\n",
    "print(stringIndex[-5]) #expect \"H\".\n",
    "print(stringIndex[0:4]) #expect \"Life\". 0:4 means 0 <= str < 3\n",
    "print(stringIndex[4:]) #expect \" is too short\".4: means str > 4\n",
    "print(stringIndex[:4]) #expect \"Life\". :4 means str < 4"
   ]
  },
  {
   "cell_type": "code",
   "execution_count": 1,
   "metadata": {},
   "outputs": [
    {
     "name": "stdout",
     "output_type": "stream",
     "text": [
      "        hi\n",
      "hi        \n",
      "0.3245\n",
      "    0.3245\n",
      "3\n",
      "0\n",
      "5\n",
      "S,t,r,i,n,g, ,r,e,l,a,t,e,d, ,f,u,n,c,t,i,o,n,s\n"
     ]
    }
   ],
   "source": [
    "rightArrange = \"%10s\"\n",
    "leftArrange = \"%-10s\"\n",
    "print(rightArrange %\"hi\")\n",
    "print(leftArrange %\"hi\")\n",
    "\n",
    "decimal = \"%0.4f\"\n",
    "decimalInRange = \"%10.4f\"\n",
    "print(decimal %0.324545)\n",
    "print(decimalInRange %0.324545)\n",
    "\n",
    "next = \"String related functions\"\n",
    "print(next.count(\"n\")) # expect return 3\n",
    "print(next.find(\"S\")) # expect return 0\n",
    "print(next.index(\"g\")) # expect return 5\n",
    "a = \",\"\n",
    "print(a.join(next)) "
   ]
  },
  {
   "attachments": {},
   "cell_type": "markdown",
   "metadata": {},
   "source": [
    "- formatting"
   ]
  },
  {
   "cell_type": "code",
   "execution_count": null,
   "metadata": {},
   "outputs": [],
   "source": [
    "format: str = \"I eat {0} apples\" .format(3)\n",
    "print(format)\n",
    "\n",
    "moreThanOne: str = \"I eat {0} apples. so I was sick for {1} days.\" .format(2, \"three\")\n",
    "\n",
    "useName: str = \"I eat {count} apples. so I was sick for {day} days\" .format(count = 3, day = \"three\")\n",
    "\n",
    "leftArrange: str = \"{0:>10}\" .format(\"hi\")\n",
    "rightArrange: str = \"{0:<10}\" .format(\"hi\")\n",
    "print(rightArrange)"
   ]
  },
  {
   "attachments": {},
   "cell_type": "markdown",
   "metadata": {},
   "source": [
    "3. List"
   ]
  },
  {
   "cell_type": "code",
   "execution_count": 11,
   "metadata": {},
   "outputs": [
    {
     "name": "stdout",
     "output_type": "stream",
     "text": [
      "0 Mary\n",
      "1 had\n",
      "2 a\n",
      "3 little\n",
      "4 lamb\n"
     ]
    },
    {
     "data": {
      "text/plain": [
       "[(0, 'Mary'), (1, 'had'), (2, 'a'), (3, 'little'), (4, 'lamb')]"
      ]
     },
     "execution_count": 11,
     "metadata": {},
     "output_type": "execute_result"
    }
   ],
   "source": [
    "users = {'Hans': 'active', 'Éléonore': 'inactive', '景太郎': 'active'}\n",
    "\n",
    "for user, status in users.copy().items():\n",
    "  if status == \"inactive\":\n",
    "    del users[user]\n",
    "\n",
    "active_users = {}\n",
    "\n",
    "for user, status in users.items():\n",
    "  if status == \"active\":\n",
    "    active_users[user] = status\n",
    "\n",
    "\n",
    "list(range(5, 10))\n",
    "# list = [5, 6, 7, 8, 9]\n",
    "\n",
    "list(range(0, 10, 3))\n",
    "# list = [0, 3, 6, 9]\n",
    "\n",
    "a: list[str] = ['Mary', 'had', 'a', 'little', 'lamb']\n",
    "for i in range(len(a)):\n",
    "  print(i, a[i])\n",
    "# range는 이터러블(iterable)객체 배열을 일반화한 객체입니다. range는 순서대로 시퀀스를 나열할 필요가 있을때 유용하다.\n",
    "# range(start, end [, steps])로 나뉘어진다 step는 있을 경우에만 고려하여 나열이 된다.\n",
    "# range는 리스트인 것처럼 작동하지만 리스트가 아닌 사용자가 지정한 시퀀스 항목들을 순서대로 돌려주는 이터러블 객체입니다. \n",
    "\n",
    "list(enumerate(a))\n",
    "# enumerate는 위에서 사용한 인덱스와 함께 배열내의 요소를 나열하는 더 효율적인 방법이다. enumerate는 인덱스와 값을 같이 ㄹ\n",
    "# [(0, 'Mary'), (1, 'had'), (2, 'a'), (3, 'little'), (4, 'lamb')]\n"
   ]
  },
  {
   "attachments": {},
   "cell_type": "markdown",
   "metadata": {},
   "source": [
    "- Loop Technic"
   ]
  },
  {
   "cell_type": "code",
   "execution_count": null,
   "metadata": {},
   "outputs": [],
   "source": [
    "knights: dict = {'gallahad' : 'the pure', \"robin\" : \"the brave\"}\n",
    "for k, v in knights.items():\n",
    "  print(k, v)\n",
    "\n",
    "for n in range(2, 10): \n",
    "  for x in range(2, n):\n",
    "    if n % x == 0:\n",
    "      print(n, \"equals\", x, \"*\", n//x)\n",
    "      break\n",
    "  else:\n",
    "    print(n, \"is a prime number\")\n",
    "# python은 for 루프문에 else를 이용이 가능하다. 이때 else는 if문의 else와는 다르게 작동한다. 여기서 else는 try의 else와 비슷하다. \n",
    "# try ~ else의 경우 else는 try에서 예외가 발생하지 않았을 때 실행이 된다.\n",
    "# for 반복문에서 사용되는 else는 break가 사용되지 않았을 경우 실행된다. \n",
    "\n",
    "class MyEmptyClass:\n",
    "  pass\n",
    "# pass는 아무것도 하지 않는다. 문법적으로 문장이 필요하지만 프로그램이 특별히 할 일이 없을 경우 사용한다."
   ]
  }
 ],
 "metadata": {
  "kernelspec": {
   "display_name": "Python 3",
   "language": "python",
   "name": "python3"
  },
  "language_info": {
   "codemirror_mode": {
    "name": "ipython",
    "version": 3
   },
   "file_extension": ".py",
   "mimetype": "text/x-python",
   "name": "python",
   "nbconvert_exporter": "python",
   "pygments_lexer": "ipython3",
   "version": "3.11.1"
  },
  "orig_nbformat": 4,
  "vscode": {
   "interpreter": {
    "hash": "c261aea317cc0286b3b3261fbba9abdec21eaa57589985bb7a274bf54d6cc0a7"
   }
  }
 },
 "nbformat": 4,
 "nbformat_minor": 2
}
