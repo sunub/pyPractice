{
 "cells": [
  {
   "cell_type": "code",
   "execution_count": 11,
   "metadata": {},
   "outputs": [
    {
     "name": "stdout",
     "output_type": "stream",
     "text": [
      "I eat 3 apples\n",
      "hi        \n"
     ]
    }
   ],
   "source": [
    "\n",
    "format: str = \"I eat {0} apples\" .format(3)\n",
    "print(format)\n",
    "\n",
    "moreThanOne: str = \"I eat {0} apples. so I was sick for {1} days.\" .format(2, \"three\")\n",
    "\n",
    "useName: str = \"I eat {count} apples. so I was sick for {day} days\" .format(count = 3, day = \"three\")\n",
    "\n",
    "leftArrange: str = \"{0:>10}\" .format(\"hi\")\n",
    "rightArrange: str = \"{0:<10}\" .format(\"hi\")\n",
    "print(rightArrange)"
   ]
  },
  {
   "cell_type": "code",
   "execution_count": 36,
   "metadata": {},
   "outputs": [
    {
     "name": "stdout",
     "output_type": "stream",
     "text": [
      "C:\\some\n",
      "ame\n",
      "C:\\some\\name\n",
      "  Usage: thingy [OPTIONS]\n",
      "    -h\n",
      "    -H hostname\n",
      "\n",
      "Put several strings within parenthesesto have them joined together\n",
      "Pythongood\n"
     ]
    }
   ],
   "source": [
    "print('C:\\some\\name')\n",
    "print(r'C:\\some\\name')\n",
    "# 여기서 r 뒤에 오는 문자열들은 줄띄워쓰기 \\n과 같은 이스케이프 코드가 와도 문자열로써 출력하게 된다.\n",
    "\n",
    "print(\"\"\"\\\n",
    "  Usage: thingy [OPTIONS]\n",
    "    -h\n",
    "    -H hostname\n",
    "\"\"\")\n",
    "\n",
    "print('Put several strings within parentheses'\n",
    "      'to have them joined together')\n",
    "# 떨어져 있는 문자열은 자동으로 붙여서 출력하게 되는데 이 기능은 긴 문자를 출력할때 유용하다. \n",
    "\n",
    "prefix = \"Python\"\n",
    "print(prefix + \"good\")"
   ]
  }
 ],
 "metadata": {
  "kernelspec": {
   "display_name": "Python 3",
   "language": "python",
   "name": "python3"
  },
  "language_info": {
   "codemirror_mode": {
    "name": "ipython",
    "version": 3
   },
   "file_extension": ".py",
   "mimetype": "text/x-python",
   "name": "python",
   "nbconvert_exporter": "python",
   "pygments_lexer": "ipython3",
   "version": "3.9.15 (main, Nov 24 2022, 14:39:17) [MSC v.1916 64 bit (AMD64)]"
  },
  "orig_nbformat": 4,
  "vscode": {
   "interpreter": {
    "hash": "8915ac7cd46459c6a6e5ca16dc2533a4666f584926840798765e9cf128f5530e"
   }
  }
 },
 "nbformat": 4,
 "nbformat_minor": 2
}
