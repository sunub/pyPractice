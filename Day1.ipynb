{
 "cells": [
  {
   "attachments": {},
   "cell_type": "markdown",
   "metadata": {},
   "source": [
    "# DAY 1 Python Practice"
   ]
  },
  {
   "attachments": {},
   "cell_type": "markdown",
   "metadata": {},
   "source": [
    "## Python Data type\n",
    "- number type"
   ]
  },
  {
   "cell_type": "code",
   "execution_count": null,
   "metadata": {},
   "outputs": [],
   "source": [
    "#32bit  number range\n",
    "intNum: list[int] = [32, 12, 1000, 2 ** 31 - 1]\n",
    "complexNum : complex = 1 + 2j\n",
    "\n",
    "#retrun real part of complex number\n",
    "print(complexNum.real)\n",
    "\n",
    "#return imaginary part of complex number\n",
    "print(complexNum.imag)\n",
    "\n",
    "#return conjugate complex number\n",
    "print(complexNum.conjugate())\n",
    "\n",
    "#return absolute of complex number\n",
    "print(abs(complexNum))\n",
    "\n"
   ]
  },
  {
   "attachments": {},
   "cell_type": "markdown",
   "metadata": {},
   "source": [
    "- string type"
   ]
  },
  {
   "cell_type": "code",
   "execution_count": null,
   "metadata": {},
   "outputs": [],
   "source": [
    "food: str = \"Python's favorite food is perl\"\n",
    "print(food)\n",
    "\n",
    "backslash: str = 'Python\\'s favorite food is perl'\n",
    "say: str = \"\\\"Python is very easy.\\\" he says \"\n",
    "print(say)\n",
    "\n",
    "multipleLine = \"\"\"\n",
    "   Life is too short\n",
    "   You need to learn Python\n",
    "  \"\"\"\n",
    "print(multipleLine)\n",
    "\n",
    "escapeCode: list[str] = [\"\\n\", \"\\t\", \"\\\\\", \"\\r\", \"\\f\", \"\\a\" ]\n",
    "print(escapeCode[4])\n",
    "\n",
    "stringIndex: str = \"Life is too short.\"\n",
    "print(stringIndex[-0]) #expect \"L\".\n",
    "print(stringIndex[-2]) #expect \"t\".\n",
    "print(stringIndex[-5]) #expect \"H\".\n",
    "print(stringIndex[0:4]) #expect \"Life\". 0:4 means 0 <= str < 3\n",
    "print(stringIndex[4:]) #expect \" is too short\".4: means str > 4\n",
    "print(stringIndex[:4]) #expect \"Life\". :4 means str < 4\n",
    "\n",
    "number: int = 3\n",
    "day: str = \"three\"\n",
    "formatting = \"I eat %d appels. %s days\"\n",
    "print(formatting % (number, day))\n",
    "\n",
    "formatCode: list[str] = [\"%d\", \"%s\", \"%%\", \"%f\"]\n",
    "#put int num, string, include \"%\"string, include minority num"
   ]
  },
  {
   "cell_type": "code",
   "execution_count": 31,
   "metadata": {},
   "outputs": [
    {
     "name": "stdout",
     "output_type": "stream",
     "text": [
      "        hi\n",
      "hi        \n",
      "0.3245\n",
      "    0.3245\n",
      "3\n",
      "0\n",
      "5\n",
      "S,t,r,i,n,g, ,r,e,l,a,t,e,d, ,f,u,n,c,t,i,o,n,s\n"
     ]
    }
   ],
   "source": [
    "rightArrange = \"%10s\"\n",
    "leftArrange = \"%-10s\"\n",
    "print(rightArrange %\"hi\")\n",
    "print(leftArrange %\"hi\")\n",
    "\n",
    "decimal = \"%0.4f\"\n",
    "decimalInRange = \"%10.4f\"\n",
    "print(decimal %0.324545)\n",
    "print(decimalInRange %0.324545)\n",
    "\n",
    "next = \"String related functions\"\n",
    "print(next.count(\"n\")) # expect return 3\n",
    "print(next.find(\"S\")) # expect return 0\n",
    "print(next.index(\"g\")) # expect return 5\n",
    "a = \",\"\n",
    "print(a.join(next)) "
   ]
  }
 ],
 "metadata": {
  "kernelspec": {
   "display_name": "Python 3",
   "language": "python",
   "name": "python3"
  },
  "language_info": {
   "codemirror_mode": {
    "name": "ipython",
    "version": 3
   },
   "file_extension": ".py",
   "mimetype": "text/x-python",
   "name": "python",
   "nbconvert_exporter": "python",
   "pygments_lexer": "ipython3",
   "version": "3.9.13"
  },
  "orig_nbformat": 4,
  "vscode": {
   "interpreter": {
    "hash": "8915ac7cd46459c6a6e5ca16dc2533a4666f584926840798765e9cf128f5530e"
   }
  }
 },
 "nbformat": 4,
 "nbformat_minor": 2
}
